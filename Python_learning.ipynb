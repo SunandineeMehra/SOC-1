{
  "nbformat": 4,
  "nbformat_minor": 0,
  "metadata": {
    "colab": {
      "name": "Python learning.ipynb",
      "provenance": [],
      "collapsed_sections": []
    },
    "kernelspec": {
      "name": "python3",
      "display_name": "Python 3"
    },
    "language_info": {
      "name": "python"
    }
  },
  "cells": [
    {
      "cell_type": "code",
      "metadata": {
        "colab": {
          "base_uri": "https://localhost:8080/"
        },
        "id": "UH5oR5_FzBLq",
        "outputId": "c789b5b7-370e-4b8f-a3a7-69518ad41547"
      },
      "source": [
        "from google.colab import drive\n",
        "drive.mount('/content/drive')"
      ],
      "execution_count": null,
      "outputs": [
        {
          "output_type": "stream",
          "text": [
            "Mounted at /content/drive\n"
          ],
          "name": "stdout"
        }
      ]
    },
    {
      "cell_type": "code",
      "metadata": {
        "colab": {
          "base_uri": "https://localhost:8080/"
        },
        "id": "S1UHEunhAH5l",
        "outputId": "dc15eae3-7638-4730-83f6-1ff9f7c3f53b"
      },
      "source": [
        "cd 'drive/MyDrive/Python_Pract'"
      ],
      "execution_count": null,
      "outputs": [
        {
          "output_type": "stream",
          "text": [
            "[Errno 2] No such file or directory: 'drive/MyDrive/Python_Pract'\n",
            "/content/drive/MyDrive\n"
          ],
          "name": "stdout"
        }
      ]
    },
    {
      "cell_type": "markdown",
      "metadata": {
        "id": "HDS0anPZUN4W"
      },
      "source": [
        "Link to tutorial text references:\n",
        "https://intellipaat.com/blog/tutorial/python-tutorial/\n",
        "\n",
        "Link to Python cheat sheet\n",
        "https://intellipaat.com/blog/tutorial/python-tutorial/python-cheat-sheet-basics/"
      ]
    },
    {
      "cell_type": "code",
      "metadata": {
        "colab": {
          "base_uri": "https://localhost:8080/"
        },
        "id": "UyZY6cEqTlQf",
        "outputId": "d9d2029f-1efb-4fc3-a24b-3a7257ea2a50"
      },
      "source": [
        "str1=\"sunandinee\"\n",
        "print(str1)\n",
        "print(str1[0:3])\n",
        "print(str1[-3])\n",
        "print(str1[-3:])\n",
        "str1.find(\"nan\")\n",
        "str1.replace(\"ee\", \"i\")\n",
        "str2=\"w1, w2, w3\"\n",
        "#str2.split(\",\")\n",
        "#str1.count(\"S\")"
      ],
      "execution_count": 3,
      "outputs": [
        {
          "output_type": "stream",
          "text": [
            "sunandinee\n",
            "sun\n",
            "n\n",
            "nee\n"
          ],
          "name": "stdout"
        }
      ]
    },
    {
      "cell_type": "markdown",
      "metadata": {
        "id": "EAtP3Ii1VNQW"
      },
      "source": [
        "tuples are different from lists in the sense that they are immutable\n",
        "kinda like arrays but with permanent immutable entries"
      ]
    },
    {
      "cell_type": "code",
      "metadata": {
        "colab": {
          "base_uri": "https://localhost:8080/"
        },
        "id": "oQYE-aiCV4kc",
        "outputId": "f64cb4b4-4fdf-4a60-a701-aa6a72926be6"
      },
      "source": [
        "10>>2\n",
        "4<<2"
      ],
      "execution_count": 4,
      "outputs": [
        {
          "output_type": "execute_result",
          "data": {
            "text/plain": [
              "1"
            ]
          },
          "metadata": {
            "tags": []
          },
          "execution_count": 4
        }
      ]
    },
    {
      "cell_type": "markdown",
      "metadata": {
        "id": "c8k-p1lyWBJS"
      },
      "source": [
        "10>>2 means: 10 in binary is 1010. with >> we shift it 2 bits to the right by removing the 2 bits at the end, hence ouput is 10\n",
        "\n",
        "4<<2 means: 4 in binary is 0100. with << we shift it by 2 bits to left, and add 2 zeroes at the end, making it 10000, which in decimal is 16\n",
        "shortcut for << is to add as many zeroes to the binary form as the number of bits that we are shifting it by\n",
        "\n",
        "shortcut for >> is to just drop as many digits from the end of the binary form as we are shifting by"
      ]
    },
    {
      "cell_type": "markdown",
      "metadata": {
        "id": "bdocQTtnXuXv"
      },
      "source": [
        "bitwise, identity, and membership operators "
      ]
    },
    {
      "cell_type": "markdown",
      "metadata": {
        "id": "Lp0VLCFTD3ZX"
      },
      "source": [
        "List and tuple is an ordered collection of items. Dictionary is unordered collection. List and dictionary objects are mutable i.e. it is possible to add new item or delete and item from it. Tuple is an immutable object\n",
        "\n",
        "ie values in dicts are accessed by their keys, not position, hence dicts are key-value pairs"
      ]
    },
    {
      "cell_type": "code",
      "metadata": {
        "colab": {
          "base_uri": "https://localhost:8080/"
        },
        "id": "eNveYcVfZ6jN",
        "outputId": "f73c4e2f-a6d9-482e-b29c-7b0eab859ea8"
      },
      "source": [
        "tup1=(\"a\", 'b', \"c\")\n",
        "tup2=('d', \"e\")\n",
        "print(tup1+tup2) #concatenation\n",
        "print(tup1*2) #doubles all the entries\n",
        "tup1[1]\n",
        "tup1[1:5]#till 5 nth is there, so prints as much as poss"
      ],
      "execution_count": 6,
      "outputs": [
        {
          "output_type": "stream",
          "text": [
            "('a', 'b', 'c', 'd', 'e')\n",
            "('a', 'b', 'c', 'a', 'b', 'c')\n"
          ],
          "name": "stdout"
        },
        {
          "output_type": "execute_result",
          "data": {
            "text/plain": [
              "('b', 'c')"
            ]
          },
          "metadata": {
            "tags": []
          },
          "execution_count": 6
        }
      ]
    },
    {
      "cell_type": "code",
      "metadata": {
        "colab": {
          "base_uri": "https://localhost:8080/"
        },
        "id": "GD6JMQ_Uaswm",
        "outputId": "ed43278d-03f4-4198-b39f-0ff3f1a7e45d"
      },
      "source": [
        "list1 =[\"a\", 32, 5.5]\n",
        "list2=[\"a\", 45]\n",
        "list1+=list2 #concatenation\n",
        "print(list1)\n",
        "list2.append(\"d\") #adds element at the end of the list, can also append one list to another\n",
        "print(list2)\n",
        "list2.insert(1, 'b') #adds 'b' at the 2nd position of list2; 2nd posn specified by the '1'\n",
        "print(list2)"
      ],
      "execution_count": null,
      "outputs": [
        {
          "output_type": "stream",
          "text": [
            "['a', 32, 5.5, 'a', 45]\n",
            "['a', 45, 'd']\n",
            "['a', 'b', 45, 'd']\n"
          ],
          "name": "stdout"
        }
      ]
    },
    {
      "cell_type": "code",
      "metadata": {
        "colab": {
          "base_uri": "https://localhost:8080/"
        },
        "id": "zsP5YXlNMi1m",
        "outputId": "3f840390-7614-4e23-8a77-3fb4073c6528"
      },
      "source": [
        "dict1={1: \"a\", 2: \"c\", 3: \"b\"} #dictionary with an integer key and its value\n",
        "dict2={} #empty dictionary\n",
        "dict3={'name' : \"Sunandinee\", 2: \"a\"} #mixed keys\n",
        "dict4=([(1, 'apple'), (2, 'ball')]) #dictionary with each item as a pair\n",
        "dict1[1] #will print 'a'\n",
        "len(dict1) #prints 3 coz dict1 has 3 elements\n",
        "#dict1.key()\n",
        "dict1.values() #prints the values as 'a', 'c', 'b' "
      ],
      "execution_count": null,
      "outputs": [
        {
          "output_type": "execute_result",
          "data": {
            "text/plain": [
              "dict_values(['a', 'c', 'b'])"
            ]
          },
          "metadata": {
            "tags": []
          },
          "execution_count": 8
        }
      ]
    },
    {
      "cell_type": "code",
      "metadata": {
        "colab": {
          "base_uri": "https://localhost:8080/"
        },
        "id": "urXELbGnOoBS",
        "outputId": "92afb8c4-e404-47c8-a87f-45228ac5e3f0"
      },
      "source": [
        "set1={1,2,3} #similar to dictionaries but no key value\n",
        "set2={2,3,4}\n",
        "print(set1 | set2) #prints the union of the 2 sets, ie {1,2,3,4}\n",
        "print(set1&set2) #prints intersection of the 2 sets, ie {2,3}\n",
        "print(set1-set2) #prints what is there in set1 but not in set2"
      ],
      "execution_count": null,
      "outputs": [
        {
          "output_type": "stream",
          "text": [
            "{1, 2, 3, 4}\n",
            "{2, 3}\n",
            "{1}\n"
          ],
          "name": "stdout"
        }
      ]
    },
    {
      "cell_type": "markdown",
      "metadata": {
        "id": "xDkHRVq6PcZD"
      },
      "source": [
        "if(conditions1):\n",
        "\n",
        "  ...\n",
        "\n",
        "elif(conditions2):\n",
        "\n",
        "  ...\n",
        "\n",
        "else\n",
        "\n",
        "  ..."
      ]
    },
    {
      "cell_type": "markdown",
      "metadata": {
        "id": "CtOg0uO5P18W"
      },
      "source": [
        "while(conditions true):\n",
        "  ..."
      ]
    },
    {
      "cell_type": "code",
      "metadata": {
        "colab": {
          "base_uri": "https://localhost:8080/"
        },
        "id": "8rjhaRlVQA40",
        "outputId": "c7bd21d6-d116-42f9-ca4d-c63cfe907a18"
      },
      "source": [
        "fruits={\"apple\", \"banana\", \"grapes\", \"oranges\"}\n",
        "for x in fruits: print(x)"
      ],
      "execution_count": 8,
      "outputs": [
        {
          "output_type": "stream",
          "text": [
            "banana\n",
            "oranges\n",
            "apple\n",
            "grapes\n"
          ],
          "name": "stdout"
        }
      ]
    },
    {
      "cell_type": "code",
      "metadata": {
        "colab": {
          "base_uri": "https://localhost:8080/"
        },
        "id": "wiLnKngXE2I_",
        "outputId": "c7e66efc-432a-453b-c72b-67ba2b55e1b7"
      },
      "source": [
        "fruits={\"apple\", \"banana\", \"grapes\", \"banana\"}\n",
        "for x in fruits: print(x)"
      ],
      "execution_count": 9,
      "outputs": [
        {
          "output_type": "stream",
          "text": [
            "banana\n",
            "apple\n",
            "grapes\n"
          ],
          "name": "stdout"
        }
      ]
    },
    {
      "cell_type": "code",
      "metadata": {
        "colab": {
          "base_uri": "https://localhost:8080/"
        },
        "id": "kvM3e6kJE5h_",
        "outputId": "1a5ac335-1955-4e1a-c71b-a558a84c9a22"
      },
      "source": [
        "fruits={\"apple\", \"banana\", \"grapes\", \"\"}\n",
        "for x in fruits: print(x)"
      ],
      "execution_count": 10,
      "outputs": [
        {
          "output_type": "stream",
          "text": [
            "banana\n",
            "\n",
            "apple\n",
            "grapes\n"
          ],
          "name": "stdout"
        }
      ]
    },
    {
      "cell_type": "code",
      "metadata": {
        "colab": {
          "base_uri": "https://localhost:8080/"
        },
        "id": "YeZkm_yrQ8Jj",
        "outputId": "57ae4352-c07c-4874-b566-ccd17efabf8c"
      },
      "source": [
        "a=1\n",
        "print(a, \"is odd\") #note the syntax"
      ],
      "execution_count": null,
      "outputs": [
        {
          "output_type": "stream",
          "text": [
            "1 is odd\n"
          ],
          "name": "stdout"
        }
      ]
    },
    {
      "cell_type": "code",
      "metadata": {
        "id": "j2Xz1Vx5TqhK"
      },
      "source": [
        "#to define user defined functions:\n",
        "def add(a, b):\n",
        "  return a+b #indentation is imp as it plays the role of braces"
      ],
      "execution_count": null,
      "outputs": []
    },
    {
      "cell_type": "markdown",
      "metadata": {
        "id": "XiVRK9rkV3Se"
      },
      "source": [
        "lambda fn is a small anonymous fn (ie as no name) that can take any number of parameters or arguments but have only one expression"
      ]
    },
    {
      "cell_type": "code",
      "metadata": {
        "colab": {
          "base_uri": "https://localhost:8080/"
        },
        "id": "VFDGgF8JWkMu",
        "outputId": "afbfde78-a572-4d01-bb8b-0adbd12b044b"
      },
      "source": [
        "x=lambda a:a+10 #lambda is a fn defined for parameter a and it returns the value of a+10\n",
        "print(x(5)) #passes 5 into x ie the lambda fn"
      ],
      "execution_count": null,
      "outputs": [
        {
          "output_type": "stream",
          "text": [
            "15\n"
          ],
          "name": "stdout"
        }
      ]
    },
    {
      "cell_type": "code",
      "metadata": {
        "colab": {
          "base_uri": "https://localhost:8080/"
        },
        "id": "o_Nz1kN8XaLL",
        "outputId": "4bc82411-78ca-4f43-ba44-5ea01488ba48"
      },
      "source": [
        "def fn(n):\n",
        "  return lambda a:a*n\n",
        "doubleme=fn(2)\n",
        "print(doubleme(12))"
      ],
      "execution_count": null,
      "outputs": [
        {
          "output_type": "stream",
          "text": [
            "24\n"
          ],
          "name": "stdout"
        }
      ]
    },
    {
      "cell_type": "markdown",
      "metadata": {
        "id": "0CJEGwHTahwZ"
      },
      "source": [
        "indexing, slicing *\n",
        "also reading, writing, appending, creating, opening, closing and deleting files can be done throguh python"
      ]
    },
    {
      "cell_type": "code",
      "metadata": {
        "colab": {
          "base_uri": "https://localhost:8080/"
        },
        "id": "nL6klRbKa-iB",
        "outputId": "6f71a851-3249-402c-e5ba-1dcfab6a2430"
      },
      "source": [
        "import numpy as np  \n",
        "#we can convert any data type to a numpy array\n",
        "a=np.array([1,2,3]) # converts the array(?) into a numpy array\n",
        "b=np.array((1,2,3)) # converts the tuple into a numpy array, this tuple is now mutable\n",
        "print(a);\n",
        "print(b);"
      ],
      "execution_count": null,
      "outputs": [
        {
          "output_type": "stream",
          "text": [
            "[1 2 3]\n",
            "{1, 2, 3}\n"
          ],
          "name": "stdout"
        }
      ]
    },
    {
      "cell_type": "code",
      "metadata": {
        "colab": {
          "base_uri": "https://localhost:8080/"
        },
        "id": "-CwZUOtOcCD1",
        "outputId": "1a7b143f-0758-41c1-d9ea-22b2bfeb6967"
      },
      "source": [
        "# 2D Arrays: (can take n D array also, but all members must be of the same type coz 'array')\n",
        "import numpy as n\n",
        "a=n.array([[1,2,3], [4,5,6]])\n",
        "print(a)\n",
        "a[:1] #prints the first column of a ie [1,2,3]\n",
        "#?a[1:] #prints from the second(ie posn=1) row of a ie [4,5,6]"
      ],
      "execution_count": 14,
      "outputs": [
        {
          "output_type": "stream",
          "text": [
            "[[1 2 3]\n",
            " [4 5 6]]\n"
          ],
          "name": "stdout"
        },
        {
          "output_type": "execute_result",
          "data": {
            "text/plain": [
              "array([[4, 5, 6]])"
            ]
          },
          "metadata": {
            "tags": []
          },
          "execution_count": 14
        }
      ]
    },
    {
      "cell_type": "code",
      "metadata": {
        "colab": {
          "base_uri": "https://localhost:8080/"
        },
        "id": "f5lnmdjyd6Lu",
        "outputId": "99b0884d-f9eb-4adc-80fa-d0f04a77efe5"
      },
      "source": [
        "a=n.zeros((3,4)) #makes a 3 rows 4 columns matrix of zeros\n",
        "print(a)\n",
        "a=n.arange(10,35,5) #10 is the starting number, 35 is the ending but obv it gets excluded ie we print all nos <35, and 5 is the increment interval that we want betweeen our numbers\n",
        "print (a)"
      ],
      "execution_count": 15,
      "outputs": [
        {
          "output_type": "stream",
          "text": [
            "[[0. 0. 0. 0.]\n",
            " [0. 0. 0. 0.]\n",
            " [0. 0. 0. 0.]]\n",
            "[10 15 20 25 30]\n"
          ],
          "name": "stdout"
        }
      ]
    },
    {
      "cell_type": "code",
      "metadata": {
        "colab": {
          "base_uri": "https://localhost:8080/"
        },
        "id": "qEiSOfAkfMGI",
        "outputId": "f0d7b758-49f0-4da7-951d-bb9a21a73147"
      },
      "source": [
        "a=n.linspace(5,6,10) #start 5, end 6, and 10 equidistant linear points between them\n",
        "print(a) \n",
        "\n",
        "b=n.full((3,4), 5) #makes a 3x4 matrix array w all enries=5\n",
        "print(b)\n",
        "\n",
        "c=np.random.random((3,4)) #random entries filled into a 3x4 array matrix\n",
        "print(c)"
      ],
      "execution_count": null,
      "outputs": [
        {
          "output_type": "stream",
          "text": [
            "[5.         5.11111111 5.22222222 5.33333333 5.44444444 5.55555556\n",
            " 5.66666667 5.77777778 5.88888889 6.        ]\n",
            "[[5 5 5 5]\n",
            " [5 5 5 5]\n",
            " [5 5 5 5]]\n",
            "[[0.21672681 0.38289712 0.48323923 0.56025298]\n",
            " [0.08759329 0.65654233 0.17280752 0.24917259]\n",
            " [0.90359131 0.91044054 0.3008722  0.22447666]]\n"
          ],
          "name": "stdout"
        }
      ]
    },
    {
      "cell_type": "markdown",
      "metadata": {
        "id": "Uy69Dn3skbsi"
      },
      "source": [
        "a.shape() will return a tuple containing {num of rows, num of columns}\n",
        "we can change the shape of the array while maintaining the entry values by a.shape=(4,3) #for eg\n",
        "so an initially 3x4 array now becomes 4x3\n",
        "\n",
        "a.shape is basaically a tuple\n",
        "so we can write sth like a.shape[0] to get 4 (in this eg where we put a.shape=(4,3)) ie [0] gives us num of rows, [1] gives us num of columns"
      ]
    },
    {
      "cell_type": "code",
      "metadata": {
        "colab": {
          "base_uri": "https://localhost:8080/"
        },
        "id": "zgXoYHsf4eEd",
        "outputId": "357a6cb5-c630-43bb-baac-a76c60a6e745"
      },
      "source": [
        "import numpy as np\n",
        "a=np.arange(24) #stores integers [1,23] as elements of a\n",
        "print(a)\n",
        "a.size"
      ],
      "execution_count": null,
      "outputs": [
        {
          "output_type": "stream",
          "text": [
            "[ 0  1  2  3  4  5  6  7  8  9 10 11 12 13 14 15 16 17 18 19 20 21 22 23]\n"
          ],
          "name": "stdout"
        },
        {
          "output_type": "execute_result",
          "data": {
            "text/plain": [
              "24"
            ]
          },
          "metadata": {
            "tags": []
          },
          "execution_count": 6
        }
      ]
    },
    {
      "cell_type": "markdown",
      "metadata": {
        "id": "JkauyOl85fwN"
      },
      "source": [
        "a.dtype gives the data type of the elements of the array (arrays are homogenous)\n",
        "\n",
        "a.ndim gives the number of dimensions of the array, not same as shape as that gives the exact shape pkus that can't be altered whereas this one can be"
      ]
    },
    {
      "cell_type": "code",
      "metadata": {
        "colab": {
          "base_uri": "https://localhost:8080/"
        },
        "id": "tw9YZrgS6Y36",
        "outputId": "8388a241-fbb6-426d-ca36-796218ca5665"
      },
      "source": [
        "a=np.array([5,10])\n",
        "np.sum(a)\n",
        "b=np.array([2,3])\n",
        "#print(np.sum([a,b]))\n",
        "#print(np.subtract(a,b))\n",
        "np.sum([a,b], axis=0) # row wise elements are added ie 5+2, 10+3\n",
        "np.sum([a,b], axis=1) #column wise elements are added ie 5+10, 2+3"
      ],
      "execution_count": null,
      "outputs": [
        {
          "output_type": "execute_result",
          "data": {
            "text/plain": [
              "array([15,  5])"
            ]
          },
          "metadata": {
            "tags": []
          },
          "execution_count": 17
        }
      ]
    },
    {
      "cell_type": "code",
      "metadata": {
        "colab": {
          "base_uri": "https://localhost:8080/"
        },
        "id": "-tDyWet19PLd",
        "outputId": "97a5cd21-476d-4778-a28e-af0c91ce14f3"
      },
      "source": [
        "a=[1,2,3]\n",
        "b=[3,4,5]\n",
        "np.equal(a,b)  #checks whether each element of b is equal to the corresponding one in a or not\n",
        "               #one more kind of equal fn ir sth also exists"
      ],
      "execution_count": null,
      "outputs": [
        {
          "output_type": "execute_result",
          "data": {
            "text/plain": [
              "array([False, False, False])"
            ]
          },
          "metadata": {
            "tags": []
          },
          "execution_count": 18
        }
      ]
    },
    {
      "cell_type": "code",
      "metadata": {
        "colab": {
          "base_uri": "https://localhost:8080/"
        },
        "id": "fWJ7lhfcqFfs",
        "outputId": "39673101-872e-4aad-8c6b-fe55426f9bee"
      },
      "source": [
        "#numpy array broadcasting - increasing the size and dimension of one array to match that of another so as to perform whatever required operations are needed\n",
        "import numpy as np\n",
        "a=np.array([[1,2,3],[4,5,6]])\n",
        "b=np.array([2,4,6])\n",
        "print(np.add(a,b)) #prints [1+2 2+4 3+6] [4+2 5+4 6+6],   same stuff works for subtract"
      ],
      "execution_count": null,
      "outputs": [
        {
          "output_type": "stream",
          "text": [
            "[[ 3  6  9]\n",
            " [ 6  9 12]]\n"
          ],
          "name": "stdout"
        }
      ]
    },
    {
      "cell_type": "code",
      "metadata": {
        "colab": {
          "base_uri": "https://localhost:8080/"
        },
        "id": "wYI4T_pIr_BC",
        "outputId": "4d19b034-01ea-4fc8-cda8-094f8ce7e3a2"
      },
      "source": [
        "import numpy as np\n",
        "a=np.array([[1,2,3], [4,5,6], [7,8,9]])\n",
        "print(a[0]) #prints elements of 1st row of a; actually extraxting till the row w index 1, ie basically row w index 0 only, which is the 1st row\n",
        "print(a[:1]) #prints first row of a as a list of a list, coz we are slicing it\n",
        "print(a[:1,:1]) #prints the a_11 element of a\n",
        "print(a[1:]) #prints rows row index 1 onwards\n",
        "print(a[:1, 1:]) #rows till row w index 1, columns staring from that w index 1"
      ],
      "execution_count": null,
      "outputs": [
        {
          "output_type": "stream",
          "text": [
            "[1 2 3]\n",
            "[[1 2 3]]\n",
            "[[1]]\n",
            "[[4 5 6]\n",
            " [7 8 9]]\n",
            "[[2 3]]\n"
          ],
          "name": "stdout"
        }
      ]
    },
    {
      "cell_type": "code",
      "metadata": {
        "colab": {
          "base_uri": "https://localhost:8080/"
        },
        "id": "PcxUL4x6vbHR",
        "outputId": "d20dac9c-1266-4c60-f920-c63bcfae7b19"
      },
      "source": [
        "a=np.array([[1,2,3], [4,5,6]])\n",
        "b=np.array([[3,2,1], [6,5,4]])\n",
        "print(np.concatenate([a,b],axis=0)) #row wise concatenation\n",
        "print() #ig leave a line\n",
        "print(np.concatenate([a,b],axis=1)) #column wise concatenation"
      ],
      "execution_count": null,
      "outputs": [
        {
          "output_type": "stream",
          "text": [
            "[[1 2 3]\n",
            " [4 5 6]\n",
            " [3 2 1]\n",
            " [6 5 4]]\n",
            "\n",
            "[[1 2 3 3 2 1]\n",
            " [4 5 6 6 5 4]]\n"
          ],
          "name": "stdout"
        }
      ]
    },
    {
      "cell_type": "code",
      "metadata": {
        "colab": {
          "base_uri": "https://localhost:8080/"
        },
        "id": "LezaaV7nyPl0",
        "outputId": "c8726ba3-6aa6-44c1-e4e8-657df4e1211d"
      },
      "source": [
        "#stacking: only works on 1D arrays, for multidim arrays, use concatenation\n",
        "a=np.array([1,2,3])\n",
        "b=np.array([3,4,5])\n",
        "print(np.stack((a,b), axis=0)) \n",
        "print()\n",
        "print(np.stack((a,b), axis=1))\n",
        "\n",
        "#horizontal concat is like vertical stack, vertical concat is like horizontal stack is like column stack\n",
        "# in hstack, rows are concatenated into a new row and outputed as the row of a new matrix of a diff shape, while stacking adds elements into an array of the same dimension"
      ],
      "execution_count": null,
      "outputs": [
        {
          "output_type": "stream",
          "text": [
            "[[1 2 3]\n",
            " [3 4 5]]\n",
            "\n",
            "[[1 3]\n",
            " [2 4]\n",
            " [3 5]]\n"
          ],
          "name": "stdout"
        }
      ]
    },
    {
      "cell_type": "code",
      "metadata": {
        "colab": {
          "base_uri": "https://localhost:8080/"
        },
        "id": "bbP7oL21BMzL",
        "outputId": "62c6ca48-74bf-4734-bbce-654e23f50bb1"
      },
      "source": [
        "a=np.array([[1,2,3], [4,5,6]])\n",
        "#split syntax is np.split(arrayName, index, axis)  #index can be an integer or a list\n",
        "print(np.split(a,2,0)) #splits the array a, into 2, along axis=0 ie rows\n",
        "print(np.split(a,3,1)) #splits the array a, into 3, along axis=1 ie columns\n",
        "\n",
        "#if index is a list\n",
        "print(np.split(a,[1,2],0)) #like executing the 3 lines of code in the next 3 cells:"
      ],
      "execution_count": null,
      "outputs": [
        {
          "output_type": "stream",
          "text": [
            "[array([[1, 2, 3]]), array([[4, 5, 6]])]\n",
            "[array([[1],\n",
            "       [4]]), array([[2],\n",
            "       [5]]), array([[3],\n",
            "       [6]])]\n",
            "[array([[1, 2, 3]]), array([[4, 5, 6]]), array([], shape=(0, 3), dtype=int64)]\n"
          ],
          "name": "stdout"
        }
      ]
    },
    {
      "cell_type": "code",
      "metadata": {
        "colab": {
          "base_uri": "https://localhost:8080/"
        },
        "id": "MXb_qMrbCoOs",
        "outputId": "de4128f2-065d-49a7-fce2-ea7ee0bdd725"
      },
      "source": [
        "a[:1]"
      ],
      "execution_count": null,
      "outputs": [
        {
          "output_type": "execute_result",
          "data": {
            "text/plain": [
              "array([[1, 2, 3]])"
            ]
          },
          "metadata": {
            "tags": []
          },
          "execution_count": 33
        }
      ]
    },
    {
      "cell_type": "code",
      "metadata": {
        "colab": {
          "base_uri": "https://localhost:8080/"
        },
        "id": "PkicgucKC4yK",
        "outputId": "6499c496-f517-4aa3-e091-ee75e7b98059"
      },
      "source": [
        "a[1:2]"
      ],
      "execution_count": null,
      "outputs": [
        {
          "output_type": "execute_result",
          "data": {
            "text/plain": [
              "array([[4, 5, 6]])"
            ]
          },
          "metadata": {
            "tags": []
          },
          "execution_count": 31
        }
      ]
    },
    {
      "cell_type": "code",
      "metadata": {
        "colab": {
          "base_uri": "https://localhost:8080/"
        },
        "id": "yAHJBnR_C7WF",
        "outputId": "97a8bfad-a856-413d-b143-82abcb7e69f3"
      },
      "source": [
        "a[2:]"
      ],
      "execution_count": null,
      "outputs": [
        {
          "output_type": "execute_result",
          "data": {
            "text/plain": [
              "array([], shape=(0, 3), dtype=int64)"
            ]
          },
          "metadata": {
            "tags": []
          },
          "execution_count": 34
        }
      ]
    },
    {
      "cell_type": "code",
      "metadata": {
        "colab": {
          "base_uri": "https://localhost:8080/"
        },
        "id": "jz6oRzKnDFS7",
        "outputId": "fa6db36e-c389-4b03-ba03-5afdf53be436"
      },
      "source": [
        "print(np.split(a,[1,2],1)) #again we first split it from start till 1, then1 till 2, and then 2 till end. only diff is that this time it is a column wise split, as shown in the next 3 celss"
      ],
      "execution_count": null,
      "outputs": [
        {
          "output_type": "stream",
          "text": [
            "[array([[1],\n",
            "       [4]]), array([[2],\n",
            "       [5]]), array([[3],\n",
            "       [6]])]\n"
          ],
          "name": "stdout"
        }
      ]
    },
    {
      "cell_type": "code",
      "metadata": {
        "colab": {
          "base_uri": "https://localhost:8080/"
        },
        "id": "MRQXJztPDocZ",
        "outputId": "1c556318-d42d-42d1-dfde-851d75667646"
      },
      "source": [
        "a[:, :1]"
      ],
      "execution_count": null,
      "outputs": [
        {
          "output_type": "execute_result",
          "data": {
            "text/plain": [
              "array([[1],\n",
              "       [4]])"
            ]
          },
          "metadata": {
            "tags": []
          },
          "execution_count": 36
        }
      ]
    },
    {
      "cell_type": "code",
      "metadata": {
        "colab": {
          "base_uri": "https://localhost:8080/"
        },
        "id": "v30EvhMUDo1U",
        "outputId": "0e696203-6733-4a5d-cfce-f2624ba6680c"
      },
      "source": [
        "a[1:, :2]"
      ],
      "execution_count": null,
      "outputs": [
        {
          "output_type": "execute_result",
          "data": {
            "text/plain": [
              "array([[4, 5]])"
            ]
          },
          "metadata": {
            "tags": []
          },
          "execution_count": 37
        }
      ]
    },
    {
      "cell_type": "code",
      "metadata": {
        "colab": {
          "base_uri": "https://localhost:8080/"
        },
        "id": "T47zOr6WDpI6",
        "outputId": "5d9bd239-45dd-48fa-8e1d-85db56f28582"
      },
      "source": [
        "a[: ,2:]"
      ],
      "execution_count": null,
      "outputs": [
        {
          "output_type": "execute_result",
          "data": {
            "text/plain": [
              "array([[3],\n",
              "       [6]])"
            ]
          },
          "metadata": {
            "tags": []
          },
          "execution_count": 39
        }
      ]
    },
    {
      "cell_type": "markdown",
      "metadata": {
        "id": "pj1yJDn2MeRW"
      },
      "source": [
        "PANDAS:\n",
        "Better than numpy, heterogenous data, and for 500K+ rows. Numpy is better for 50K rows or less\n",
        "\n",
        "Plus in pandas you can index rows and columns yourself as per convenience, don't need to stick to integers\n",
        "\n",
        "Pandas can handle tabulated data, arbitary matrix data, and time series data\n",
        "\n",
        "Data Structures in Panda: \n",
        "1D - series object \n",
        "2D - data frame\n",
        "3D - panel data\n",
        "\n",
        "series object is a dynamically labelled 1D array that can contain any type of data"
      ]
    },
    {
      "cell_type": "code",
      "metadata": {
        "colab": {
          "base_uri": "https://localhost:8080/",
          "height": 565
        },
        "id": "n21jvqZNOFAb",
        "outputId": "1f7d10f6-5459-40d6-92d2-59aeb1a4de0b"
      },
      "source": [
        "import pandas as pd\n",
        "data1= [1,2,3,4]\n",
        "sr1=pd.Series(data1)\n",
        "print(sr1, \"\\n\")\n",
        "\n",
        "data2=([1,2,3], \"Soni\") #2D object\n",
        "sr2=pd.Series(data2) #only takes 1D object, so converts data2 also somehow, or like represents it as...\n",
        "print(sr2, \"\\n\")\n",
        "\n",
        "data1= [1,2,3,4]\n",
        "sr1=pd.Series(data1, index=['a', 'b', 'c', 'd']) #changes the indices in our series from integers to letters, have to give 5 indices since 5 list entries\n",
        "print(sr1, \"\\n\")\n",
        "print(sr1['a':'c']) #only prints the elements with indices a, b AND c; ie string based indexing mein rhl is not excluded, integer based indexing mein it is\n",
        "\n",
        "data=([1,2,3,4,5], [2,3,4]) #doesn't have 4th and 5th column ka entry in row 2, so puts NaN under those\n",
        "df=pd.DataFrame(data)\n",
        "df\n",
        "\n",
        "print(\"\\ncan also give input as a dictionary\")\n",
        "data={\"a\" : [1,2,3,4,5], \"b\" : [1,2,3,4, 5.5]} #now the arrays must be of the same length, but float int mixed chalega; reason is that now we are filling rows based on column index a and b, so shd be equal. earlier we were filling column wise entries based on rows w default indices\n",
        "df=pd.DataFrame(data) #in output, each column is individually a series, and total ouput is a pandas dataframe\n",
        "df\n",
        "\n",
        "#3:40 in vid to change index names of the columns"
      ],
      "execution_count": 17,
      "outputs": [
        {
          "output_type": "stream",
          "text": [
            "0    1\n",
            "1    2\n",
            "2    3\n",
            "3    4\n",
            "dtype: int64 \n",
            "\n",
            "0    [1, 2, 3]\n",
            "1         Soni\n",
            "dtype: object \n",
            "\n",
            "a    1\n",
            "b    2\n",
            "c    3\n",
            "d    4\n",
            "dtype: int64 \n",
            "\n",
            "a    1\n",
            "b    2\n",
            "c    3\n",
            "dtype: int64\n",
            "\n",
            "can also give input as a dictionary\n"
          ],
          "name": "stdout"
        },
        {
          "output_type": "execute_result",
          "data": {
            "text/html": [
              "<div>\n",
              "<style scoped>\n",
              "    .dataframe tbody tr th:only-of-type {\n",
              "        vertical-align: middle;\n",
              "    }\n",
              "\n",
              "    .dataframe tbody tr th {\n",
              "        vertical-align: top;\n",
              "    }\n",
              "\n",
              "    .dataframe thead th {\n",
              "        text-align: right;\n",
              "    }\n",
              "</style>\n",
              "<table border=\"1\" class=\"dataframe\">\n",
              "  <thead>\n",
              "    <tr style=\"text-align: right;\">\n",
              "      <th></th>\n",
              "      <th>a</th>\n",
              "      <th>b</th>\n",
              "    </tr>\n",
              "  </thead>\n",
              "  <tbody>\n",
              "    <tr>\n",
              "      <th>0</th>\n",
              "      <td>1</td>\n",
              "      <td>1.0</td>\n",
              "    </tr>\n",
              "    <tr>\n",
              "      <th>1</th>\n",
              "      <td>2</td>\n",
              "      <td>2.0</td>\n",
              "    </tr>\n",
              "    <tr>\n",
              "      <th>2</th>\n",
              "      <td>3</td>\n",
              "      <td>3.0</td>\n",
              "    </tr>\n",
              "    <tr>\n",
              "      <th>3</th>\n",
              "      <td>4</td>\n",
              "      <td>4.0</td>\n",
              "    </tr>\n",
              "    <tr>\n",
              "      <th>4</th>\n",
              "      <td>5</td>\n",
              "      <td>5.5</td>\n",
              "    </tr>\n",
              "  </tbody>\n",
              "</table>\n",
              "</div>"
            ],
            "text/plain": [
              "   a    b\n",
              "0  1  1.0\n",
              "1  2  2.0\n",
              "2  3  3.0\n",
              "3  4  4.0\n",
              "4  5  5.5"
            ]
          },
          "metadata": {
            "tags": []
          },
          "execution_count": 17
        }
      ]
    },
    {
      "cell_type": "markdown",
      "metadata": {
        "id": "cWl_aoD8Nkqt"
      },
      "source": [
        "inner join: joining 2 tables based on inner column which will be absent from final value\n",
        "\n",
        "right join: right table comes in entirely and non matching values of left table contain null\n",
        "\n",
        "left join: opp of right join\n",
        "\n",
        "outer join: all data of all tables, non matching will contain null"
      ]
    },
    {
      "cell_type": "code",
      "metadata": {
        "colab": {
          "base_uri": "https://localhost:8080/",
          "height": 166
        },
        "id": "7Hm2EYyIObZ9",
        "outputId": "ee187136-0dbb-4d42-b04a-10ceb2f390ec"
      },
      "source": [
        "#concat is kind of an outer join\n",
        "\n",
        "df1=pd.DataFrame({\"a\":[1,2,3,4], \"b\":[2,3,4,5]})\n",
        "df2=pd.DataFrame({\"a\":[2,2,3,4], \"c\":[1,2,4,8]})\n",
        "pd.concat([df1,df2]) #brackets syntax V.IMP\n",
        "                     #puts NaN for all the missing entries\n",
        "pd.concat([df1,df2], axis=0, join=\"inner\") #only keeps the common column ke entries, ie entries of both a columns kept, and presented as rows coz axis=0\n",
        "pd.concat([df1,df2], axis=1, join=\"inner\") #all shown, as columns"
      ],
      "execution_count": 20,
      "outputs": [
        {
          "output_type": "execute_result",
          "data": {
            "text/html": [
              "<div>\n",
              "<style scoped>\n",
              "    .dataframe tbody tr th:only-of-type {\n",
              "        vertical-align: middle;\n",
              "    }\n",
              "\n",
              "    .dataframe tbody tr th {\n",
              "        vertical-align: top;\n",
              "    }\n",
              "\n",
              "    .dataframe thead th {\n",
              "        text-align: right;\n",
              "    }\n",
              "</style>\n",
              "<table border=\"1\" class=\"dataframe\">\n",
              "  <thead>\n",
              "    <tr style=\"text-align: right;\">\n",
              "      <th></th>\n",
              "      <th>a</th>\n",
              "      <th>b</th>\n",
              "      <th>a</th>\n",
              "      <th>c</th>\n",
              "    </tr>\n",
              "  </thead>\n",
              "  <tbody>\n",
              "    <tr>\n",
              "      <th>0</th>\n",
              "      <td>1</td>\n",
              "      <td>2</td>\n",
              "      <td>2</td>\n",
              "      <td>1</td>\n",
              "    </tr>\n",
              "    <tr>\n",
              "      <th>1</th>\n",
              "      <td>2</td>\n",
              "      <td>3</td>\n",
              "      <td>2</td>\n",
              "      <td>2</td>\n",
              "    </tr>\n",
              "    <tr>\n",
              "      <th>2</th>\n",
              "      <td>3</td>\n",
              "      <td>4</td>\n",
              "      <td>3</td>\n",
              "      <td>4</td>\n",
              "    </tr>\n",
              "    <tr>\n",
              "      <th>3</th>\n",
              "      <td>4</td>\n",
              "      <td>5</td>\n",
              "      <td>4</td>\n",
              "      <td>8</td>\n",
              "    </tr>\n",
              "  </tbody>\n",
              "</table>\n",
              "</div>"
            ],
            "text/plain": [
              "   a  b  a  c\n",
              "0  1  2  2  1\n",
              "1  2  3  2  2\n",
              "2  3  4  3  4\n",
              "3  4  5  4  8"
            ]
          },
          "metadata": {
            "tags": []
          },
          "execution_count": 20
        }
      ]
    },
    {
      "cell_type": "code",
      "metadata": {
        "colab": {
          "base_uri": "https://localhost:8080/",
          "height": 166
        },
        "id": "xp71U4g3RlMO",
        "outputId": "3c80f445-dea7-48a7-f3c0-97f4d2cbcb50"
      },
      "source": [
        "pd.merge(df1, df2, how=\"inner\")"
      ],
      "execution_count": null,
      "outputs": [
        {
          "output_type": "execute_result",
          "data": {
            "text/html": [
              "<div>\n",
              "<style scoped>\n",
              "    .dataframe tbody tr th:only-of-type {\n",
              "        vertical-align: middle;\n",
              "    }\n",
              "\n",
              "    .dataframe tbody tr th {\n",
              "        vertical-align: top;\n",
              "    }\n",
              "\n",
              "    .dataframe thead th {\n",
              "        text-align: right;\n",
              "    }\n",
              "</style>\n",
              "<table border=\"1\" class=\"dataframe\">\n",
              "  <thead>\n",
              "    <tr style=\"text-align: right;\">\n",
              "      <th></th>\n",
              "      <th>a</th>\n",
              "      <th>b</th>\n",
              "      <th>c</th>\n",
              "    </tr>\n",
              "  </thead>\n",
              "  <tbody>\n",
              "    <tr>\n",
              "      <th>0</th>\n",
              "      <td>2</td>\n",
              "      <td>3</td>\n",
              "      <td>1</td>\n",
              "    </tr>\n",
              "    <tr>\n",
              "      <th>1</th>\n",
              "      <td>2</td>\n",
              "      <td>3</td>\n",
              "      <td>2</td>\n",
              "    </tr>\n",
              "    <tr>\n",
              "      <th>2</th>\n",
              "      <td>3</td>\n",
              "      <td>4</td>\n",
              "      <td>4</td>\n",
              "    </tr>\n",
              "    <tr>\n",
              "      <th>3</th>\n",
              "      <td>4</td>\n",
              "      <td>5</td>\n",
              "      <td>8</td>\n",
              "    </tr>\n",
              "  </tbody>\n",
              "</table>\n",
              "</div>"
            ],
            "text/plain": [
              "   a  b  c\n",
              "0  2  3  1\n",
              "1  2  3  2\n",
              "2  3  4  4\n",
              "3  4  5  8"
            ]
          },
          "metadata": {
            "tags": []
          },
          "execution_count": 24
        }
      ]
    },
    {
      "cell_type": "code",
      "metadata": {
        "colab": {
          "base_uri": "https://localhost:8080/",
          "height": 195
        },
        "id": "IHfOSac6Rsb6",
        "outputId": "7d18cb56-e052-47f7-fa73-346c3c4713aa"
      },
      "source": [
        "pd.merge(df1, df2, how=\"outer\")"
      ],
      "execution_count": null,
      "outputs": [
        {
          "output_type": "execute_result",
          "data": {
            "text/html": [
              "<div>\n",
              "<style scoped>\n",
              "    .dataframe tbody tr th:only-of-type {\n",
              "        vertical-align: middle;\n",
              "    }\n",
              "\n",
              "    .dataframe tbody tr th {\n",
              "        vertical-align: top;\n",
              "    }\n",
              "\n",
              "    .dataframe thead th {\n",
              "        text-align: right;\n",
              "    }\n",
              "</style>\n",
              "<table border=\"1\" class=\"dataframe\">\n",
              "  <thead>\n",
              "    <tr style=\"text-align: right;\">\n",
              "      <th></th>\n",
              "      <th>a</th>\n",
              "      <th>b</th>\n",
              "      <th>c</th>\n",
              "    </tr>\n",
              "  </thead>\n",
              "  <tbody>\n",
              "    <tr>\n",
              "      <th>0</th>\n",
              "      <td>1</td>\n",
              "      <td>2</td>\n",
              "      <td>NaN</td>\n",
              "    </tr>\n",
              "    <tr>\n",
              "      <th>1</th>\n",
              "      <td>2</td>\n",
              "      <td>3</td>\n",
              "      <td>1.0</td>\n",
              "    </tr>\n",
              "    <tr>\n",
              "      <th>2</th>\n",
              "      <td>2</td>\n",
              "      <td>3</td>\n",
              "      <td>2.0</td>\n",
              "    </tr>\n",
              "    <tr>\n",
              "      <th>3</th>\n",
              "      <td>3</td>\n",
              "      <td>4</td>\n",
              "      <td>4.0</td>\n",
              "    </tr>\n",
              "    <tr>\n",
              "      <th>4</th>\n",
              "      <td>4</td>\n",
              "      <td>5</td>\n",
              "      <td>8.0</td>\n",
              "    </tr>\n",
              "  </tbody>\n",
              "</table>\n",
              "</div>"
            ],
            "text/plain": [
              "   a  b    c\n",
              "0  1  2  NaN\n",
              "1  2  3  1.0\n",
              "2  2  3  2.0\n",
              "3  3  4  4.0\n",
              "4  4  5  8.0"
            ]
          },
          "metadata": {
            "tags": []
          },
          "execution_count": 25
        }
      ]
    },
    {
      "cell_type": "code",
      "metadata": {
        "colab": {
          "base_uri": "https://localhost:8080/",
          "height": 166
        },
        "id": "z9Ptb60JRtIH",
        "outputId": "40c64b10-2b9b-4c51-c7ad-4a02b8a97f7e"
      },
      "source": [
        "pd.merge(df1, df2, how=\"right\")"
      ],
      "execution_count": null,
      "outputs": [
        {
          "output_type": "execute_result",
          "data": {
            "text/html": [
              "<div>\n",
              "<style scoped>\n",
              "    .dataframe tbody tr th:only-of-type {\n",
              "        vertical-align: middle;\n",
              "    }\n",
              "\n",
              "    .dataframe tbody tr th {\n",
              "        vertical-align: top;\n",
              "    }\n",
              "\n",
              "    .dataframe thead th {\n",
              "        text-align: right;\n",
              "    }\n",
              "</style>\n",
              "<table border=\"1\" class=\"dataframe\">\n",
              "  <thead>\n",
              "    <tr style=\"text-align: right;\">\n",
              "      <th></th>\n",
              "      <th>a</th>\n",
              "      <th>b</th>\n",
              "      <th>c</th>\n",
              "    </tr>\n",
              "  </thead>\n",
              "  <tbody>\n",
              "    <tr>\n",
              "      <th>0</th>\n",
              "      <td>2</td>\n",
              "      <td>3</td>\n",
              "      <td>1</td>\n",
              "    </tr>\n",
              "    <tr>\n",
              "      <th>1</th>\n",
              "      <td>2</td>\n",
              "      <td>3</td>\n",
              "      <td>2</td>\n",
              "    </tr>\n",
              "    <tr>\n",
              "      <th>2</th>\n",
              "      <td>3</td>\n",
              "      <td>4</td>\n",
              "      <td>4</td>\n",
              "    </tr>\n",
              "    <tr>\n",
              "      <th>3</th>\n",
              "      <td>4</td>\n",
              "      <td>5</td>\n",
              "      <td>8</td>\n",
              "    </tr>\n",
              "  </tbody>\n",
              "</table>\n",
              "</div>"
            ],
            "text/plain": [
              "   a  b  c\n",
              "0  2  3  1\n",
              "1  2  3  2\n",
              "2  3  4  4\n",
              "3  4  5  8"
            ]
          },
          "metadata": {
            "tags": []
          },
          "execution_count": 26
        }
      ]
    },
    {
      "cell_type": "code",
      "metadata": {
        "colab": {
          "base_uri": "https://localhost:8080/",
          "height": 195
        },
        "id": "CWJrHdb7Rsxk",
        "outputId": "9218aba7-85ac-46fc-cce8-dc985eecbc7f"
      },
      "source": [
        "pd.merge(df1, df2, how=\"left\")"
      ],
      "execution_count": null,
      "outputs": [
        {
          "output_type": "execute_result",
          "data": {
            "text/html": [
              "<div>\n",
              "<style scoped>\n",
              "    .dataframe tbody tr th:only-of-type {\n",
              "        vertical-align: middle;\n",
              "    }\n",
              "\n",
              "    .dataframe tbody tr th {\n",
              "        vertical-align: top;\n",
              "    }\n",
              "\n",
              "    .dataframe thead th {\n",
              "        text-align: right;\n",
              "    }\n",
              "</style>\n",
              "<table border=\"1\" class=\"dataframe\">\n",
              "  <thead>\n",
              "    <tr style=\"text-align: right;\">\n",
              "      <th></th>\n",
              "      <th>a</th>\n",
              "      <th>b</th>\n",
              "      <th>c</th>\n",
              "    </tr>\n",
              "  </thead>\n",
              "  <tbody>\n",
              "    <tr>\n",
              "      <th>0</th>\n",
              "      <td>1</td>\n",
              "      <td>2</td>\n",
              "      <td>NaN</td>\n",
              "    </tr>\n",
              "    <tr>\n",
              "      <th>1</th>\n",
              "      <td>2</td>\n",
              "      <td>3</td>\n",
              "      <td>1.0</td>\n",
              "    </tr>\n",
              "    <tr>\n",
              "      <th>2</th>\n",
              "      <td>2</td>\n",
              "      <td>3</td>\n",
              "      <td>2.0</td>\n",
              "    </tr>\n",
              "    <tr>\n",
              "      <th>3</th>\n",
              "      <td>3</td>\n",
              "      <td>4</td>\n",
              "      <td>4.0</td>\n",
              "    </tr>\n",
              "    <tr>\n",
              "      <th>4</th>\n",
              "      <td>4</td>\n",
              "      <td>5</td>\n",
              "      <td>8.0</td>\n",
              "    </tr>\n",
              "  </tbody>\n",
              "</table>\n",
              "</div>"
            ],
            "text/plain": [
              "   a  b    c\n",
              "0  1  2  NaN\n",
              "1  2  3  1.0\n",
              "2  2  3  2.0\n",
              "3  3  4  4.0\n",
              "4  4  5  8.0"
            ]
          },
          "metadata": {
            "tags": []
          },
          "execution_count": 27
        }
      ]
    },
    {
      "cell_type": "markdown",
      "metadata": {
        "id": "apl1dbnlT3Kq"
      },
      "source": [
        "pd.read_excel(filename=\" \", sheetName=\" \")\n",
        "pd.read_csv(filename=\" \", sheetName=\" \")\n",
        "\n",
        "such commands used to read files"
      ]
    },
    {
      "cell_type": "markdown",
      "metadata": {
        "id": "BHkI8fcKY6Ye"
      },
      "source": [
        "dataFrame.head() automatically returns first 5 rows of the data set, if we want more than that then we specify the reqd number in the ()\n",
        ".tail() does the same for last 5 rows\n",
        ".shape() will gice no. of rows and columns\n",
        ".shape() \n",
        ".info() gives non null values(?)\n",
        ".describe() will tabulate all our stats in one place, like count, mean, std deviation etc\n",
        "\n",
        "to rename a column:\n",
        "dataFrameName.rename(columns=\"old_name\":\"new name\")\n",
        "\n",
        "similarly can drop a column by .drop(columns=['column_name']), or change the values of some entries\n",
        "\n",
        ".iloc(r:, :c) or :r,c: etc etc used for indexing/slicing... the dataset as was previously also seen \n",
        "but iloc takes r and c as int only, if either or both of them actually contain a string literal for the row/column name, then use loc not iloc"
      ]
    },
    {
      "cell_type": "markdown",
      "metadata": {
        "id": "OfRb2yGdgyml"
      },
      "source": [
        "f=lambda x:x*2\n",
        "cars['2am']=cars['am'].apply(f)\n",
        "\n",
        "cars is a dataFrame\n",
        "this code will create a new column in the data set called 2am and containing the *2 multiple of the values given in the am column\n",
        "\n",
        "datasetName.sort_values(by=\"column or row name jiske acc we want to sort\")    #sets in ascending order\n",
        "\n",
        "datasetName.sort_values(by=\"column or row name jiske acc we want to sort\", ascending=False)   #sets in descending order\n",
        "\n",
        "filtering in pandas at 4.14"
      ]
    },
    {
      "cell_type": "markdown",
      "metadata": {
        "id": "HSQasV6Zpi8w"
      },
      "source": [
        "say we have a dataframe df\n",
        "import matplotlib.pyplot as plt\n",
        "y1=df[\"hp\"]\n",
        "x=range(32)\n",
        "plt.plot(x,y1)\n",
        "\n",
        "here y1 holds values of column hp of the df dataset\n",
        "x has values from 0 to 32\n",
        "plt.plot() prints these graphically w x on X axis and y1 on Y axis\n",
        "\n",
        "can also include 2 y values, ie y1 and y2 w diff values on the same x range and plot them both on the same graph sheet\n",
        "typing plt.legend() gives the legend for these plots too\n",
        "\n",
        "4.17 of video has stackplot part\n",
        "\n",
        "plt.bar(x,y,colour=\"purple\", alpha=0.9) #plots a bar chart for the dataset\n",
        "using plt.barh plots a horizontal bar chart"
      ]
    },
    {
      "cell_type": "code",
      "metadata": {
        "colab": {
          "base_uri": "https://localhost:8080/",
          "height": 265
        },
        "id": "pAeBmuMHk1Pf",
        "outputId": "1de4867c-b488-49af-edb5-7fa0f2c1ce69"
      },
      "source": [
        "import matplotlib.pyplot as plt\n",
        "import numpy as np\n",
        "%matplotlib inline #this line is not needed in a jupyter notebook as these are anyway browser based; however if we code in python using some other ide then this command line ensures that the plot is displayed on the same screen that we are working on, without it a new display window would be opened\n",
        "\n",
        "x=np.arange(0,10,0.1)\n",
        "y=2*x+5\n",
        "\n",
        "plt.plot(x,y)\n",
        "plt.show()"
      ],
      "execution_count": 24,
      "outputs": [
        {
          "output_type": "display_data",
          "data": {
            "image/png": "[encoded data removed]",
            "text/plain": [
              "<Figure size 432x288 with 1 Axes>"
            ]
          },
          "metadata": {
            "tags": [],
            "needs_background": "light"
          }
        }
      ]
    },
    {
      "cell_type": "markdown",
      "metadata": {
        "id": "BdLZrfBfoiS-"
      },
      "source": [
        "customization at 4.55"
      ]
    },
    {
      "cell_type": "code",
      "metadata": {
        "colab": {
          "base_uri": "https://localhost:8080/",
          "height": 34
        },
        "id": "5n2QzBSzuRr_",
        "outputId": "cceab9c5-3667-4b7d-848d-881b6236d7f7"
      },
      "source": [
        "import matplotlib.pyplot as plt\n",
        "\n",
        "fig=plt.figure(figsize=(5,10))"
      ],
      "execution_count": 25,
      "outputs": [
        {
          "output_type": "display_data",
          "data": {
            "text/plain": [
              "<Figure size 360x720 with 0 Axes>"
            ]
          },
          "metadata": {
            "tags": []
          }
        }
      ]
    },
    {
      "cell_type": "markdown",
      "metadata": {
        "id": "zWR8QqBBvaaH"
      },
      "source": [
        "plt.savefig('ChooseName.png') #will save the plot as a png file in your jupyter notebook ka sth(lib?)\n",
        "\n",
        "box plots ke boxes have 4 lines, each denoting the Q0(min number), Q1, Q2(mean), Q3 and Q4(max number), height of boxes denotes IQR or inter quartile range\n",
        "\n",
        "violin plots ka shaded region denotes the probability density distribution of the dataset\n",
        "\n",
        "scatter plots show the corelation between the data values: if widespread then low corelation, if closely clustered then high\n",
        "\n",
        "pie carts used to show percentage of data, esp when we have more than 3-4 data values\n",
        "\n",
        "donut chart similar to pie, but shows in terms of area."
      ]
    }
  ]
}